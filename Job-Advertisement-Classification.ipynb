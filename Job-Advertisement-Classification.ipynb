{
 "cells": [
  {
   "cell_type": "markdown",
   "id": "da27f119-325f-43c2-8095-01519cb13b35",
   "metadata": {},
   "source": [
    "# Job Advertisement Classification"
   ]
  },
  {
   "cell_type": "markdown",
   "id": "e90591d5-a1fc-4f0a-8f8c-132344485d24",
   "metadata": {},
   "source": [
    "## Import Libraries"
   ]
  },
  {
   "cell_type": "code",
   "execution_count": 3,
   "id": "e86bf49f-de24-4b4e-acca-5dc18aa099a1",
   "metadata": {},
   "outputs": [],
   "source": [
    "import pandas as pd\n",
    "import matplotlib.pyplot as plt\n",
    "import numpy as np\n",
    "\n",
    "from sklearn.datasets import load_files\n",
    "from sklearn.feature_extraction.text import CountVectorizer, TfidfVectorizer\n",
    "from sklearn.model_selection import train_test_split, KFold\n",
    "from sklearn.linear_model import LogisticRegression\n",
    "from sklearn.naive_bayes import MultinomialNB\n",
    "from sklearn.svm import SVC\n",
    "from sklearn.preprocessing import LabelEncoder\n",
    "from sklearn.manifold import TSNE\n",
    "\n",
    "import gensim.downloader as api\n",
    "\n",
    "from scipy.sparse import hstack"
   ]
  },
  {
   "cell_type": "markdown",
   "id": "0844a208-3298-4b50-a5f9-6b2351515775",
   "metadata": {},
   "source": [
    "### Utilities"
   ]
  },
  {
   "cell_type": "code",
   "execution_count": 5,
   "id": "0bba17bc-a056-4583-832d-b2cb12c8f890",
   "metadata": {},
   "outputs": [],
   "source": [
    "def validator(data_features, vocab, a_ind, tokenised_articles, web_indexes, description_txts):\n",
    "    print(\"Webindex:\", web_indexes[a_ind]) # print out the Article ID\n",
    "    print(\"--------------------------------------------\")\n",
    "    print(\"Description:\",description_txts[a_ind]) # print out the txt of the article\n",
    "    print(\"Description tokens:\",tokenised_articles[a_ind]) # print out the tokens of the article\n",
    "    print(\"--------------------------------------------\\n\")\n",
    "    print(\"Vector representation:\\n\") # printing the vector representation as format 'word:value' (\n",
    "                                      # the value is 0 or 1 in for binary vector; an integer for count vector; and a float value for tfidf\n",
    "\n",
    "    for word, value in zip(vocab, data_features.toarray()[a_ind]): \n",
    "        if value > 0:\n",
    "            print(word+\":\"+str(value), end =' ')"
   ]
  },
  {
   "cell_type": "code",
   "execution_count": 6,
   "id": "6bea3349-6dd8-4d14-aad5-e29fb8687d78",
   "metadata": {},
   "outputs": [],
   "source": [
    "def gen_docVecs(wv,tk_txts,tfidf = []): # generate vector representation for documents\n",
    "    docs_vectors = pd.DataFrame() # creating empty final dataframe\n",
    "    #stopwords = nltk.corpus.stopwords.words('english') # removing stop words\n",
    "\n",
    "    for i in range(0,len(tk_txts)):\n",
    "        tokens = list(set(tk_txts[i])) # get the list of distinct words of the document\n",
    "\n",
    "        temp = pd.DataFrame()  # creating a temporary dataframe(store value for 1st doc & for 2nd doc remove the details of 1st & proced through 2nd and so on..)\n",
    "        for w_ind in range(0, len(tokens)): # looping through each word of a single document and spliting through space\n",
    "            try:\n",
    "                word = tokens[w_ind]\n",
    "                word_vec = wv[word] # if word is present in embeddings(goole provides weights associate with words(300)) then proceed\n",
    "\n",
    "                if tfidf != []:\n",
    "                    word_weight = float(tfidf[i][word])\n",
    "                else:\n",
    "                    word_weight = 1\n",
    "                temp = pd.concat([temp, pd.Series(word_vec*word_weight).to_frame().T], ignore_index = True) # if word is present then append it to temporary dataframe\n",
    "            except:\n",
    "                pass\n",
    "        doc_vector = temp.sum().to_frame().T # take the sum of each column(w0, w1, w2,........w300)\n",
    "        docs_vectors = pd.concat([docs_vectors,doc_vector], ignore_index = True) # append each document value to the final dataframe\n",
    "    return docs_vectors"
   ]
  },
  {
   "cell_type": "code",
   "execution_count": 7,
   "id": "eff869fb-37d9-4705-9f0e-8fe11e7cf7f5",
   "metadata": {},
   "outputs": [],
   "source": [
    "def write_vectorFile(data_features,filename, web_indexes):\n",
    "    num = data_features.shape[0] # the number of document\n",
    "    out_file = open(filename, 'w') # creates a txt file and open to save the vector representation\n",
    "    for a_ind in range(0, num): # loop through each article by index\n",
    "        out_file.write(\"{},\".format(web_indexes[a_ind]))\n",
    "        for f_ind in data_features[a_ind].nonzero()[1]: # for each word index that has non-zero entry in the data_feature\n",
    "            value = data_features[a_ind][0,f_ind] # retrieve the value of the entry from data_features\n",
    "            out_file.write(\"{}:{},\".format(f_ind,value)) # write the entry to the file in the format of word_index:value\n",
    "        out_file.write('\\n') # start a new line after each article\n",
    "    out_file.close() # close the file"
   ]
  },
  {
   "cell_type": "code",
   "execution_count": 8,
   "id": "6f599bd2-124f-41a6-bd6e-40f0ede39843",
   "metadata": {},
   "outputs": [],
   "source": [
    "def plotTSNE(labels,features): # features as a numpy array, each element of the array is the document embedding of an article\n",
    "    categories = sorted(labels.unique())\n",
    "    # Sampling a subset of our dataset because t-SNE is computationally expensive\n",
    "    SAMPLE_SIZE = int(len(features) * 0.3)\n",
    "    np.random.seed(0)\n",
    "    indices = np.random.choice(range(len(features)), size=SAMPLE_SIZE, replace=False)\n",
    "    projected_features = TSNE(n_components=2, random_state=0).fit_transform(features[indices])\n",
    "    colors = ['pink', 'green', 'midnightblue', 'orange', 'darkgrey']\n",
    "    for i in range(0,len(categories)):\n",
    "        points = projected_features[(labels[indices] == categories[i])]\n",
    "        plt.scatter(points[:, 0], points[:, 1], s=30, c=colors[i], label=categories[i])\n",
    "    plt.title(\"Feature vector for each article, projected on 2 dimensions.\",\n",
    "              fontdict=dict(fontsize=15))\n",
    "    plt.legend()\n",
    "    plt.show()"
   ]
  },
  {
   "cell_type": "markdown",
   "id": "74b798dc-ff1c-4c6a-a53d-e761b6832daf",
   "metadata": {},
   "source": [
    "## 1. Load Data"
   ]
  },
  {
   "cell_type": "markdown",
   "id": "87859af9-70f1-4b3a-ad7f-0ef13efb9725",
   "metadata": {},
   "source": [
    "### Descriptions"
   ]
  },
  {
   "cell_type": "code",
   "execution_count": 11,
   "id": "93f4ef6a-9192-4c37-9867-b95f1e3b7cc0",
   "metadata": {},
   "outputs": [],
   "source": [
    "txt_fname = 'descriptions.txt'\n",
    "with open(txt_fname) as txtf:\n",
    "    description_txts = txtf.read().splitlines() # reading a list of strings, each for a document/article\n",
    "tk_descriptions = [a.split(' ') for a in description_txts]"
   ]
  },
  {
   "cell_type": "code",
   "execution_count": 12,
   "id": "388e6f31-98e7-4526-bab5-70b3bea4a189",
   "metadata": {},
   "outputs": [],
   "source": [
    "with open(\"./vocab.txt\", 'r') as vocab_file:\n",
    "    vocab = vocab_file.read().splitlines()\n",
    "voc_dict = {int(w.split(\":\")[1]):w.split(\":\")[0] for w in vocab}\n",
    "vocab = [w.split(\":\")[0] for w in vocab]"
   ]
  },
  {
   "cell_type": "code",
   "execution_count": 13,
   "id": "7cb556d0-2cfb-4a97-b196-95a54ffbc645",
   "metadata": {},
   "outputs": [],
   "source": [
    "with open(\"./web_indexes.txt\", 'r') as web_indexes_f:\n",
    "    web_indexes = web_indexes_f.read().splitlines()"
   ]
  },
  {
   "cell_type": "code",
   "execution_count": 14,
   "id": "0e60686e-f8d0-46b7-a6cd-84f03085fa7e",
   "metadata": {},
   "outputs": [],
   "source": [
    "txt_fname = 'descriptions_txt.txt'\n",
    "with open(txt_fname) as txtf:\n",
    "    description_txts = txtf.read().splitlines() # reading a list of strings, each for a document/article"
   ]
  },
  {
   "cell_type": "markdown",
   "id": "dac7c581-5f0f-42f9-91ed-fddfc0668717",
   "metadata": {},
   "source": [
    "### Titles"
   ]
  },
  {
   "cell_type": "code",
   "execution_count": 16,
   "id": "24362861-cb78-4e32-aae1-534eb761adc1",
   "metadata": {},
   "outputs": [],
   "source": [
    "with open(\"./titles_vocab.txt\", 'r') as titles_vocab_file:\n",
    "    titles_vocab = titles_vocab_file.read().splitlines()\n",
    "titles_voc_dict = {int(w.split(\":\")[1]):w.split(\":\")[0] for w in titles_vocab}\n",
    "titles_vocab = [w.split(\":\")[0] for w in titles_vocab]"
   ]
  },
  {
   "cell_type": "code",
   "execution_count": 17,
   "id": "562ae9b7-cf73-4a80-b72f-e777334ec657",
   "metadata": {},
   "outputs": [],
   "source": [
    "title_txt_fname = 'titles.txt'\n",
    "with open(title_txt_fname) as titles_txtf:\n",
    "    titles_txts = titles_txtf.read().splitlines() # reading a list of strings, each for a document/article\n",
    "tk_titles = [a.split(' ') for a in titles_txts]"
   ]
  },
  {
   "cell_type": "markdown",
   "id": "8ce3ac54-ce36-4612-9742-c34978975320",
   "metadata": {},
   "source": [
    "### Descriptions"
   ]
  },
  {
   "cell_type": "code",
   "execution_count": 19,
   "id": "9c7dcff8-e0a4-42d5-a5bf-cd3930d23532",
   "metadata": {},
   "outputs": [],
   "source": [
    "cat_fname = './categories.txt'\n",
    "with open(cat_fname) as catf: \n",
    "    categories = catf.read().splitlines() # read all the sentiments into a list"
   ]
  },
  {
   "cell_type": "markdown",
   "id": "d734267a-ba02-44af-a023-89468ccbf5e7",
   "metadata": {},
   "source": [
    "## 2. Generating Feature Representations for Job Advertisement Descriptions"
   ]
  },
  {
   "cell_type": "markdown",
   "id": "850bb7c2-c69e-4b75-ba66-5f283a334914",
   "metadata": {},
   "source": [
    "### 2.1. Generatin Count Vectors"
   ]
  },
  {
   "cell_type": "code",
   "execution_count": 22,
   "id": "aeee9713-cba1-47d0-b40b-ae2ddd96bfe6",
   "metadata": {},
   "outputs": [],
   "source": [
    "cVectorizer = CountVectorizer(analyzer = \"word\",vocabulary = vocab) # initialised the CountVectorizer"
   ]
  },
  {
   "cell_type": "code",
   "execution_count": 23,
   "id": "6d416d2e-7fd2-4ce9-88f1-055a92048782",
   "metadata": {},
   "outputs": [
    {
     "name": "stdout",
     "output_type": "stream",
     "text": [
      "(776, 5173)\n"
     ]
    }
   ],
   "source": [
    "count_features = cVectorizer.fit_transform([\" \".join(descr) for descr in tk_descriptions]) # generate the count vector representation for all articles\n",
    "print(count_features.shape)"
   ]
  },
  {
   "cell_type": "code",
   "execution_count": 24,
   "id": "a6854216-8fbe-4797-bfa4-a372c34ab17d",
   "metadata": {},
   "outputs": [
    {
     "data": {
      "image/png": "[encoded data removed]",
      "text/plain": [
       "<Figure size 640x480 with 1 Axes>"
      ]
     },
     "metadata": {},
     "output_type": "display_data"
    }
   ],
   "source": [
    "plotTSNE(pd.Series(categories), count_features.toarray())"
   ]
  },
  {
   "cell_type": "markdown",
   "id": "ee7f0734-894c-4cd1-9ba6-5518595beb5f",
   "metadata": {},
   "source": [
    "### 2.2. Generating TF-IDF Vectors"
   ]
  },
  {
   "cell_type": "code",
   "execution_count": 26,
   "id": "45aed282-8322-4e15-9010-df919ea48563",
   "metadata": {},
   "outputs": [],
   "source": [
    "tVectorizer = TfidfVectorizer(analyzer = \"word\",vocabulary = vocab) # initialised the TfidfVectorizer"
   ]
  },
  {
   "cell_type": "code",
   "execution_count": 27,
   "id": "e544ce22-9efe-44fc-9d07-9d189de3a271",
   "metadata": {},
   "outputs": [
    {
     "data": {
      "text/plain": [
       "(776, 5173)"
      ]
     },
     "execution_count": 27,
     "metadata": {},
     "output_type": "execute_result"
    }
   ],
   "source": [
    "tfidf_features = tVectorizer.fit_transform([\" \".join(descr) for descr in tk_descriptions]) # generate the tfidf vector representation for all articles\n",
    "tfidf_features.shape"
   ]
  },
  {
   "cell_type": "code",
   "execution_count": 28,
   "id": "836c2aa2-30ea-4104-83ba-7a9f7e90dde9",
   "metadata": {},
   "outputs": [],
   "source": [
    "tfidf_weights = [{voc_dict[f_ind]: tv[0,f_ind] for f_ind in tv.nonzero()[1]} for tv in tfidf_features]"
   ]
  },
  {
   "cell_type": "code",
   "execution_count": 29,
   "id": "1a3a0db9-59b2-4516-86c9-f5358338a2dd",
   "metadata": {},
   "outputs": [
    {
     "name": "stdout",
     "output_type": "stream",
     "text": [
      "Webindex: 68997528\n",
      "--------------------------------------------\n",
      "Description: Accountant (partqualified) to **** p.a. South East London Our client, a successful manufacturing company has an immediate requirement for an Accountant for permanent role in their modern offices in South East London. The Role: Credit Control Purchase / Sales Ledger Daily collection of debts by phone, letter and email. Handling of ledger accounts Handling disputed accounts and negotiating payment terms Allocating of cash and reconciliation of accounts Adhoc administration duties within the business The Person The ideal candidate will have previous experience in a Credit Control capacity, you will possess exceptional customer service and communication skills together with IT proficiency. You will need to be a part or fully qualified Accountant to be considered for this role\n",
      "Description tokens: ['accountant', 'partqualified', 'south', 'east', 'london', 'manufacturing', 'requirement', 'accountant', 'permanent', 'modern', 'offices', 'south', 'east', 'london', 'credit', 'control', 'purchase', 'ledger', 'daily', 'collection', 'debts', 'phone', 'letter', 'email', 'handling', 'ledger', 'accounts', 'handling', 'accounts', 'negotiating', 'payment', 'terms', 'cash', 'reconciliation', 'accounts', 'adhoc', 'administration', 'duties', 'person', 'ideal', 'previous', 'credit', 'control', 'capacity', 'possess', 'exceptional', 'customer', 'communication', 'part', 'fully', 'qualified', 'accountant', 'considered']\n",
      "--------------------------------------------\n",
      "\n",
      "Vector representation:\n",
      "\n",
      "part:0.071897801822511 email:0.07884175705492423 payment:0.13824362212075775 london:0.1683924989397167 south:0.2061227947671938 east:0.20514266820633362 fully:0.10619192310013917 customer:0.06996439492867647 duties:0.08294417258358573 adhoc:0.13505500519123653 letter:0.12835773375082865 handling:0.2439213071495251 previous:0.0824582625815107 qualified:0.07821166567368462 ideal:0.08802432794046587 capacity:0.13358452883303926 debts:0.18797117176068323 cash:0.11922830097836142 permanent:0.0817444994771149 accounts:0.2743125663759605 possess:0.1097066869352462 administration:0.10355998392967493 exceptional:0.12835773375082865 accountant:0.3502015754776558 ledger:0.2732100089916736 collection:0.1534556748363241 daily:0.10564584937441769 negotiating:0.15985275501239024 requirement:0.12498112923756008 considered:0.09531271318466679 offices:0.11518385918795165 terms:0.13085217623663817 purchase:0.1366050044958368 modern:0.1321858122214362 partqualified:0.17332682083960899 credit:0.25212613820684804 manufacturing:0.09726367012728676 phone:0.11922830097836142 reconciliation:0.14183179957804742 control:0.1754665594335997 communication:0.07027770956417699 person:0.09046563231320096 "
     ]
    }
   ],
   "source": [
    "validator(tfidf_features, vocab, 0, tk_descriptions, web_indexes, description_txts)"
   ]
  },
  {
   "cell_type": "code",
   "execution_count": 30,
   "id": "b07aedf6-df08-4fc8-b93d-38e52a8cacaa",
   "metadata": {},
   "outputs": [
    {
     "data": {
      "image/png": "[encoded data removed]",
      "text/plain": [
       "<Figure size 640x480 with 1 Axes>"
      ]
     },
     "metadata": {},
     "output_type": "display_data"
    }
   ],
   "source": [
    "plotTSNE(pd.Series(categories), tfidf_features.toarray())"
   ]
  },
  {
   "cell_type": "markdown",
   "id": "db2ebd3b-1f3c-4119-9ab7-54182a3b41aa",
   "metadata": {},
   "source": [
    "### 2.3. Doc2Vec"
   ]
  },
  {
   "cell_type": "code",
   "execution_count": 32,
   "id": "bf1b21b0-3033-4673-89c4-60f8230d0863",
   "metadata": {},
   "outputs": [],
   "source": [
    "# loading the pre-trained word2vec model based on google news\n",
    "preTW2v_wv = api.load('word2vec-google-news-300')"
   ]
  },
  {
   "cell_type": "markdown",
   "id": "c23efb99-8e69-4633-a1ce-3947ee09d1f3",
   "metadata": {},
   "source": [
    "#### Unweighted"
   ]
  },
  {
   "cell_type": "code",
   "execution_count": 34,
   "id": "ca3e18f3-abcd-4e11-b668-7d7bfa3127af",
   "metadata": {},
   "outputs": [],
   "source": [
    "unweighted_preTW2v_dvs = gen_docVecs(preTW2v_wv, tk_descriptions)"
   ]
  },
  {
   "cell_type": "code",
   "execution_count": 35,
   "id": "2a6ee038-8bd6-4792-82be-9c0c1884de7b",
   "metadata": {},
   "outputs": [
    {
     "data": {
      "text/html": [
       "<div>\n",
       "<style scoped>\n",
       "    .dataframe tbody tr th:only-of-type {\n",
       "        vertical-align: middle;\n",
       "    }\n",
       "\n",
       "    .dataframe tbody tr th {\n",
       "        vertical-align: top;\n",
       "    }\n",
       "\n",
       "    .dataframe thead th {\n",
       "        text-align: right;\n",
       "    }\n",
       "</style>\n",
       "<table border=\"1\" class=\"dataframe\">\n",
       "  <thead>\n",
       "    <tr style=\"text-align: right;\">\n",
       "      <th></th>\n",
       "      <th>0</th>\n",
       "      <th>1</th>\n",
       "      <th>2</th>\n",
       "      <th>3</th>\n",
       "      <th>4</th>\n",
       "      <th>5</th>\n",
       "      <th>6</th>\n",
       "      <th>7</th>\n",
       "      <th>8</th>\n",
       "      <th>9</th>\n",
       "      <th>...</th>\n",
       "      <th>290</th>\n",
       "      <th>291</th>\n",
       "      <th>292</th>\n",
       "      <th>293</th>\n",
       "      <th>294</th>\n",
       "      <th>295</th>\n",
       "      <th>296</th>\n",
       "      <th>297</th>\n",
       "      <th>298</th>\n",
       "      <th>299</th>\n",
       "    </tr>\n",
       "  </thead>\n",
       "  <tbody>\n",
       "    <tr>\n",
       "      <th>0</th>\n",
       "      <td>0.040298</td>\n",
       "      <td>1.054123</td>\n",
       "      <td>-0.529892</td>\n",
       "      <td>0.714165</td>\n",
       "      <td>-0.157242</td>\n",
       "      <td>1.323303</td>\n",
       "      <td>0.442535</td>\n",
       "      <td>-2.253723</td>\n",
       "      <td>2.949219</td>\n",
       "      <td>2.035095</td>\n",
       "      <td>...</td>\n",
       "      <td>-4.013550</td>\n",
       "      <td>1.402252</td>\n",
       "      <td>-2.607327</td>\n",
       "      <td>0.221741</td>\n",
       "      <td>-0.922333</td>\n",
       "      <td>1.592300</td>\n",
       "      <td>-0.277370</td>\n",
       "      <td>-0.678192</td>\n",
       "      <td>-0.210205</td>\n",
       "      <td>-2.677673</td>\n",
       "    </tr>\n",
       "    <tr>\n",
       "      <th>1</th>\n",
       "      <td>-1.473816</td>\n",
       "      <td>1.584991</td>\n",
       "      <td>0.819000</td>\n",
       "      <td>1.852867</td>\n",
       "      <td>0.350006</td>\n",
       "      <td>0.740295</td>\n",
       "      <td>0.278458</td>\n",
       "      <td>-3.805668</td>\n",
       "      <td>4.822540</td>\n",
       "      <td>0.364410</td>\n",
       "      <td>...</td>\n",
       "      <td>-3.805016</td>\n",
       "      <td>3.693893</td>\n",
       "      <td>-1.977173</td>\n",
       "      <td>2.186798</td>\n",
       "      <td>0.493774</td>\n",
       "      <td>0.459290</td>\n",
       "      <td>1.216736</td>\n",
       "      <td>0.271454</td>\n",
       "      <td>0.859497</td>\n",
       "      <td>0.449524</td>\n",
       "    </tr>\n",
       "    <tr>\n",
       "      <th>2</th>\n",
       "      <td>-3.946838</td>\n",
       "      <td>-0.657652</td>\n",
       "      <td>-0.014496</td>\n",
       "      <td>0.697968</td>\n",
       "      <td>-2.598602</td>\n",
       "      <td>-1.396545</td>\n",
       "      <td>1.839664</td>\n",
       "      <td>-2.875244</td>\n",
       "      <td>1.788971</td>\n",
       "      <td>-0.920616</td>\n",
       "      <td>...</td>\n",
       "      <td>-3.203766</td>\n",
       "      <td>1.738068</td>\n",
       "      <td>-3.246704</td>\n",
       "      <td>0.702152</td>\n",
       "      <td>-1.461670</td>\n",
       "      <td>1.355003</td>\n",
       "      <td>0.501067</td>\n",
       "      <td>-2.165588</td>\n",
       "      <td>0.221100</td>\n",
       "      <td>-1.078156</td>\n",
       "    </tr>\n",
       "    <tr>\n",
       "      <th>3</th>\n",
       "      <td>-0.983086</td>\n",
       "      <td>2.129181</td>\n",
       "      <td>0.135437</td>\n",
       "      <td>1.845459</td>\n",
       "      <td>-1.812561</td>\n",
       "      <td>-1.120083</td>\n",
       "      <td>0.967480</td>\n",
       "      <td>-2.679829</td>\n",
       "      <td>1.955719</td>\n",
       "      <td>1.467432</td>\n",
       "      <td>...</td>\n",
       "      <td>-3.417023</td>\n",
       "      <td>2.671204</td>\n",
       "      <td>-2.274963</td>\n",
       "      <td>0.248230</td>\n",
       "      <td>-1.007568</td>\n",
       "      <td>0.506653</td>\n",
       "      <td>2.911789</td>\n",
       "      <td>0.254473</td>\n",
       "      <td>0.176178</td>\n",
       "      <td>-0.026064</td>\n",
       "    </tr>\n",
       "    <tr>\n",
       "      <th>4</th>\n",
       "      <td>-4.086990</td>\n",
       "      <td>1.537132</td>\n",
       "      <td>-1.215912</td>\n",
       "      <td>3.212475</td>\n",
       "      <td>-4.836792</td>\n",
       "      <td>-3.321228</td>\n",
       "      <td>5.739914</td>\n",
       "      <td>-5.585052</td>\n",
       "      <td>5.380035</td>\n",
       "      <td>2.462952</td>\n",
       "      <td>...</td>\n",
       "      <td>-5.220551</td>\n",
       "      <td>2.475151</td>\n",
       "      <td>-6.385788</td>\n",
       "      <td>0.688457</td>\n",
       "      <td>-0.855713</td>\n",
       "      <td>4.634018</td>\n",
       "      <td>-1.016968</td>\n",
       "      <td>-0.458069</td>\n",
       "      <td>-0.490643</td>\n",
       "      <td>-3.634537</td>\n",
       "    </tr>\n",
       "    <tr>\n",
       "      <th>...</th>\n",
       "      <td>...</td>\n",
       "      <td>...</td>\n",
       "      <td>...</td>\n",
       "      <td>...</td>\n",
       "      <td>...</td>\n",
       "      <td>...</td>\n",
       "      <td>...</td>\n",
       "      <td>...</td>\n",
       "      <td>...</td>\n",
       "      <td>...</td>\n",
       "      <td>...</td>\n",
       "      <td>...</td>\n",
       "      <td>...</td>\n",
       "      <td>...</td>\n",
       "      <td>...</td>\n",
       "      <td>...</td>\n",
       "      <td>...</td>\n",
       "      <td>...</td>\n",
       "      <td>...</td>\n",
       "      <td>...</td>\n",
       "      <td>...</td>\n",
       "    </tr>\n",
       "    <tr>\n",
       "      <th>771</th>\n",
       "      <td>-0.805130</td>\n",
       "      <td>0.087204</td>\n",
       "      <td>-2.211212</td>\n",
       "      <td>0.961426</td>\n",
       "      <td>1.572571</td>\n",
       "      <td>-0.917938</td>\n",
       "      <td>0.001770</td>\n",
       "      <td>-2.787947</td>\n",
       "      <td>2.923492</td>\n",
       "      <td>2.387726</td>\n",
       "      <td>...</td>\n",
       "      <td>-2.343647</td>\n",
       "      <td>1.347351</td>\n",
       "      <td>-5.590942</td>\n",
       "      <td>-0.457872</td>\n",
       "      <td>2.377533</td>\n",
       "      <td>0.031482</td>\n",
       "      <td>3.093323</td>\n",
       "      <td>-0.783936</td>\n",
       "      <td>0.933533</td>\n",
       "      <td>-3.181469</td>\n",
       "    </tr>\n",
       "    <tr>\n",
       "      <th>772</th>\n",
       "      <td>-8.202850</td>\n",
       "      <td>6.691780</td>\n",
       "      <td>1.246494</td>\n",
       "      <td>3.957442</td>\n",
       "      <td>-6.278065</td>\n",
       "      <td>-0.062248</td>\n",
       "      <td>9.584446</td>\n",
       "      <td>-8.328142</td>\n",
       "      <td>12.324678</td>\n",
       "      <td>7.900330</td>\n",
       "      <td>...</td>\n",
       "      <td>-14.548370</td>\n",
       "      <td>8.481659</td>\n",
       "      <td>-12.871308</td>\n",
       "      <td>5.714073</td>\n",
       "      <td>-3.834351</td>\n",
       "      <td>5.877636</td>\n",
       "      <td>2.147987</td>\n",
       "      <td>-2.667820</td>\n",
       "      <td>0.655640</td>\n",
       "      <td>-4.886484</td>\n",
       "    </tr>\n",
       "    <tr>\n",
       "      <th>773</th>\n",
       "      <td>-4.108057</td>\n",
       "      <td>6.510002</td>\n",
       "      <td>-3.048218</td>\n",
       "      <td>5.711014</td>\n",
       "      <td>-7.847031</td>\n",
       "      <td>3.152382</td>\n",
       "      <td>2.542782</td>\n",
       "      <td>-15.110363</td>\n",
       "      <td>10.023315</td>\n",
       "      <td>-2.692375</td>\n",
       "      <td>...</td>\n",
       "      <td>-11.243858</td>\n",
       "      <td>7.005203</td>\n",
       "      <td>-15.441513</td>\n",
       "      <td>1.919403</td>\n",
       "      <td>-2.257616</td>\n",
       "      <td>2.290253</td>\n",
       "      <td>8.238327</td>\n",
       "      <td>2.068344</td>\n",
       "      <td>4.922428</td>\n",
       "      <td>0.003529</td>\n",
       "    </tr>\n",
       "    <tr>\n",
       "      <th>774</th>\n",
       "      <td>-2.256805</td>\n",
       "      <td>1.654924</td>\n",
       "      <td>-2.152466</td>\n",
       "      <td>3.317444</td>\n",
       "      <td>-3.354492</td>\n",
       "      <td>3.521729</td>\n",
       "      <td>2.484741</td>\n",
       "      <td>-4.747069</td>\n",
       "      <td>4.703308</td>\n",
       "      <td>1.709236</td>\n",
       "      <td>...</td>\n",
       "      <td>-3.367344</td>\n",
       "      <td>5.133045</td>\n",
       "      <td>-6.246902</td>\n",
       "      <td>1.209309</td>\n",
       "      <td>-0.836700</td>\n",
       "      <td>0.529114</td>\n",
       "      <td>-0.747879</td>\n",
       "      <td>-0.095914</td>\n",
       "      <td>1.928795</td>\n",
       "      <td>-1.691589</td>\n",
       "    </tr>\n",
       "    <tr>\n",
       "      <th>775</th>\n",
       "      <td>-0.513123</td>\n",
       "      <td>3.013632</td>\n",
       "      <td>-0.687958</td>\n",
       "      <td>0.308777</td>\n",
       "      <td>-3.716003</td>\n",
       "      <td>-2.230774</td>\n",
       "      <td>1.189865</td>\n",
       "      <td>-7.701900</td>\n",
       "      <td>6.421595</td>\n",
       "      <td>5.961250</td>\n",
       "      <td>...</td>\n",
       "      <td>-7.285095</td>\n",
       "      <td>4.355946</td>\n",
       "      <td>-7.630539</td>\n",
       "      <td>-0.329109</td>\n",
       "      <td>-0.049377</td>\n",
       "      <td>-3.730667</td>\n",
       "      <td>4.146682</td>\n",
       "      <td>-0.471191</td>\n",
       "      <td>1.712418</td>\n",
       "      <td>-1.090149</td>\n",
       "    </tr>\n",
       "  </tbody>\n",
       "</table>\n",
       "<p>776 rows × 300 columns</p>\n",
       "</div>"
      ],
      "text/plain": [
       "          0         1         2         3         4         5         6    \\\n",
       "0    0.040298  1.054123 -0.529892  0.714165 -0.157242  1.323303  0.442535   \n",
       "1   -1.473816  1.584991  0.819000  1.852867  0.350006  0.740295  0.278458   \n",
       "2   -3.946838 -0.657652 -0.014496  0.697968 -2.598602 -1.396545  1.839664   \n",
       "3   -0.983086  2.129181  0.135437  1.845459 -1.812561 -1.120083  0.967480   \n",
       "4   -4.086990  1.537132 -1.215912  3.212475 -4.836792 -3.321228  5.739914   \n",
       "..        ...       ...       ...       ...       ...       ...       ...   \n",
       "771 -0.805130  0.087204 -2.211212  0.961426  1.572571 -0.917938  0.001770   \n",
       "772 -8.202850  6.691780  1.246494  3.957442 -6.278065 -0.062248  9.584446   \n",
       "773 -4.108057  6.510002 -3.048218  5.711014 -7.847031  3.152382  2.542782   \n",
       "774 -2.256805  1.654924 -2.152466  3.317444 -3.354492  3.521729  2.484741   \n",
       "775 -0.513123  3.013632 -0.687958  0.308777 -3.716003 -2.230774  1.189865   \n",
       "\n",
       "           7          8         9    ...        290       291        292  \\\n",
       "0    -2.253723   2.949219  2.035095  ...  -4.013550  1.402252  -2.607327   \n",
       "1    -3.805668   4.822540  0.364410  ...  -3.805016  3.693893  -1.977173   \n",
       "2    -2.875244   1.788971 -0.920616  ...  -3.203766  1.738068  -3.246704   \n",
       "3    -2.679829   1.955719  1.467432  ...  -3.417023  2.671204  -2.274963   \n",
       "4    -5.585052   5.380035  2.462952  ...  -5.220551  2.475151  -6.385788   \n",
       "..         ...        ...       ...  ...        ...       ...        ...   \n",
       "771  -2.787947   2.923492  2.387726  ...  -2.343647  1.347351  -5.590942   \n",
       "772  -8.328142  12.324678  7.900330  ... -14.548370  8.481659 -12.871308   \n",
       "773 -15.110363  10.023315 -2.692375  ... -11.243858  7.005203 -15.441513   \n",
       "774  -4.747069   4.703308  1.709236  ...  -3.367344  5.133045  -6.246902   \n",
       "775  -7.701900   6.421595  5.961250  ...  -7.285095  4.355946  -7.630539   \n",
       "\n",
       "          293       294       295       296       297       298       299  \n",
       "0    0.221741 -0.922333  1.592300 -0.277370 -0.678192 -0.210205 -2.677673  \n",
       "1    2.186798  0.493774  0.459290  1.216736  0.271454  0.859497  0.449524  \n",
       "2    0.702152 -1.461670  1.355003  0.501067 -2.165588  0.221100 -1.078156  \n",
       "3    0.248230 -1.007568  0.506653  2.911789  0.254473  0.176178 -0.026064  \n",
       "4    0.688457 -0.855713  4.634018 -1.016968 -0.458069 -0.490643 -3.634537  \n",
       "..        ...       ...       ...       ...       ...       ...       ...  \n",
       "771 -0.457872  2.377533  0.031482  3.093323 -0.783936  0.933533 -3.181469  \n",
       "772  5.714073 -3.834351  5.877636  2.147987 -2.667820  0.655640 -4.886484  \n",
       "773  1.919403 -2.257616  2.290253  8.238327  2.068344  4.922428  0.003529  \n",
       "774  1.209309 -0.836700  0.529114 -0.747879 -0.095914  1.928795 -1.691589  \n",
       "775 -0.329109 -0.049377 -3.730667  4.146682 -0.471191  1.712418 -1.090149  \n",
       "\n",
       "[776 rows x 300 columns]"
      ]
     },
     "execution_count": 35,
     "metadata": {},
     "output_type": "execute_result"
    }
   ],
   "source": [
    "unweighted_preTW2v_dvs"
   ]
  },
  {
   "cell_type": "code",
   "execution_count": 36,
   "id": "3401d201-fd8f-48b0-8ab0-faee05df4f36",
   "metadata": {},
   "outputs": [
    {
     "data": {
      "image/png": "[encoded data removed]",
      "text/plain": [
       "<Figure size 640x480 with 1 Axes>"
      ]
     },
     "metadata": {},
     "output_type": "display_data"
    }
   ],
   "source": [
    "plotTSNE(pd.Series(categories), unweighted_preTW2v_dvs.to_numpy())"
   ]
  },
  {
   "cell_type": "markdown",
   "id": "52463f4a-e149-4ce0-b488-eed013a88b0a",
   "metadata": {},
   "source": [
    "#### TF-IDF Weighted"
   ]
  },
  {
   "cell_type": "code",
   "execution_count": 38,
   "id": "e25587ed-d67c-47ca-8276-c2369c8b8051",
   "metadata": {},
   "outputs": [],
   "source": [
    "weighted_preTW2v_dvs = gen_docVecs(preTW2v_wv, tk_descriptions, tfidf_weights)"
   ]
  },
  {
   "cell_type": "code",
   "execution_count": 39,
   "id": "cbb5d47a-2980-4b76-9d9c-aef2e98950dd",
   "metadata": {},
   "outputs": [
    {
     "data": {
      "text/html": [
       "<div>\n",
       "<style scoped>\n",
       "    .dataframe tbody tr th:only-of-type {\n",
       "        vertical-align: middle;\n",
       "    }\n",
       "\n",
       "    .dataframe tbody tr th {\n",
       "        vertical-align: top;\n",
       "    }\n",
       "\n",
       "    .dataframe thead th {\n",
       "        text-align: right;\n",
       "    }\n",
       "</style>\n",
       "<table border=\"1\" class=\"dataframe\">\n",
       "  <thead>\n",
       "    <tr style=\"text-align: right;\">\n",
       "      <th></th>\n",
       "      <th>0</th>\n",
       "      <th>1</th>\n",
       "      <th>2</th>\n",
       "      <th>3</th>\n",
       "      <th>4</th>\n",
       "      <th>5</th>\n",
       "      <th>6</th>\n",
       "      <th>7</th>\n",
       "      <th>8</th>\n",
       "      <th>9</th>\n",
       "      <th>...</th>\n",
       "      <th>290</th>\n",
       "      <th>291</th>\n",
       "      <th>292</th>\n",
       "      <th>293</th>\n",
       "      <th>294</th>\n",
       "      <th>295</th>\n",
       "      <th>296</th>\n",
       "      <th>297</th>\n",
       "      <th>298</th>\n",
       "      <th>299</th>\n",
       "    </tr>\n",
       "  </thead>\n",
       "  <tbody>\n",
       "    <tr>\n",
       "      <th>0</th>\n",
       "      <td>0.127735</td>\n",
       "      <td>0.235061</td>\n",
       "      <td>-0.086524</td>\n",
       "      <td>0.003810</td>\n",
       "      <td>0.120681</td>\n",
       "      <td>0.217154</td>\n",
       "      <td>-0.104117</td>\n",
       "      <td>-0.508286</td>\n",
       "      <td>0.443325</td>\n",
       "      <td>0.306826</td>\n",
       "      <td>...</td>\n",
       "      <td>-0.636729</td>\n",
       "      <td>0.271189</td>\n",
       "      <td>-0.418535</td>\n",
       "      <td>0.010197</td>\n",
       "      <td>-0.141266</td>\n",
       "      <td>0.098013</td>\n",
       "      <td>-0.037712</td>\n",
       "      <td>-0.128682</td>\n",
       "      <td>-0.087839</td>\n",
       "      <td>-0.341490</td>\n",
       "    </tr>\n",
       "    <tr>\n",
       "      <th>1</th>\n",
       "      <td>0.072223</td>\n",
       "      <td>0.150872</td>\n",
       "      <td>0.217045</td>\n",
       "      <td>0.226054</td>\n",
       "      <td>0.107462</td>\n",
       "      <td>-0.065670</td>\n",
       "      <td>0.024513</td>\n",
       "      <td>-0.466990</td>\n",
       "      <td>0.751906</td>\n",
       "      <td>-0.156715</td>\n",
       "      <td>...</td>\n",
       "      <td>-0.380454</td>\n",
       "      <td>0.623265</td>\n",
       "      <td>-0.290799</td>\n",
       "      <td>0.262206</td>\n",
       "      <td>0.067257</td>\n",
       "      <td>-0.068819</td>\n",
       "      <td>0.117884</td>\n",
       "      <td>0.066299</td>\n",
       "      <td>-0.031979</td>\n",
       "      <td>0.006392</td>\n",
       "    </tr>\n",
       "    <tr>\n",
       "      <th>2</th>\n",
       "      <td>-0.322412</td>\n",
       "      <td>-0.033755</td>\n",
       "      <td>-0.006769</td>\n",
       "      <td>-0.058533</td>\n",
       "      <td>-0.280152</td>\n",
       "      <td>-0.129906</td>\n",
       "      <td>0.216074</td>\n",
       "      <td>-0.449664</td>\n",
       "      <td>0.314796</td>\n",
       "      <td>-0.083322</td>\n",
       "      <td>...</td>\n",
       "      <td>-0.452964</td>\n",
       "      <td>0.099408</td>\n",
       "      <td>-0.338833</td>\n",
       "      <td>0.042622</td>\n",
       "      <td>-0.048744</td>\n",
       "      <td>0.134967</td>\n",
       "      <td>-0.057996</td>\n",
       "      <td>-0.344080</td>\n",
       "      <td>0.021213</td>\n",
       "      <td>-0.178418</td>\n",
       "    </tr>\n",
       "    <tr>\n",
       "      <th>3</th>\n",
       "      <td>-0.113855</td>\n",
       "      <td>0.325437</td>\n",
       "      <td>-0.143501</td>\n",
       "      <td>0.205663</td>\n",
       "      <td>-0.289510</td>\n",
       "      <td>-0.264339</td>\n",
       "      <td>0.072500</td>\n",
       "      <td>-0.284336</td>\n",
       "      <td>0.315983</td>\n",
       "      <td>0.337004</td>\n",
       "      <td>...</td>\n",
       "      <td>-0.384992</td>\n",
       "      <td>0.371126</td>\n",
       "      <td>-0.330034</td>\n",
       "      <td>0.101861</td>\n",
       "      <td>-0.123601</td>\n",
       "      <td>0.073506</td>\n",
       "      <td>0.404387</td>\n",
       "      <td>0.064453</td>\n",
       "      <td>-0.073978</td>\n",
       "      <td>-0.013935</td>\n",
       "    </tr>\n",
       "    <tr>\n",
       "      <th>4</th>\n",
       "      <td>-0.236785</td>\n",
       "      <td>0.018763</td>\n",
       "      <td>-0.111336</td>\n",
       "      <td>0.324455</td>\n",
       "      <td>-0.393914</td>\n",
       "      <td>-0.289901</td>\n",
       "      <td>0.446163</td>\n",
       "      <td>-0.459797</td>\n",
       "      <td>0.472943</td>\n",
       "      <td>0.293615</td>\n",
       "      <td>...</td>\n",
       "      <td>-0.416899</td>\n",
       "      <td>0.203973</td>\n",
       "      <td>-0.539202</td>\n",
       "      <td>0.032364</td>\n",
       "      <td>-0.077112</td>\n",
       "      <td>0.421060</td>\n",
       "      <td>-0.106325</td>\n",
       "      <td>-0.055864</td>\n",
       "      <td>-0.002660</td>\n",
       "      <td>-0.323667</td>\n",
       "    </tr>\n",
       "    <tr>\n",
       "      <th>...</th>\n",
       "      <td>...</td>\n",
       "      <td>...</td>\n",
       "      <td>...</td>\n",
       "      <td>...</td>\n",
       "      <td>...</td>\n",
       "      <td>...</td>\n",
       "      <td>...</td>\n",
       "      <td>...</td>\n",
       "      <td>...</td>\n",
       "      <td>...</td>\n",
       "      <td>...</td>\n",
       "      <td>...</td>\n",
       "      <td>...</td>\n",
       "      <td>...</td>\n",
       "      <td>...</td>\n",
       "      <td>...</td>\n",
       "      <td>...</td>\n",
       "      <td>...</td>\n",
       "      <td>...</td>\n",
       "      <td>...</td>\n",
       "      <td>...</td>\n",
       "    </tr>\n",
       "    <tr>\n",
       "      <th>771</th>\n",
       "      <td>-0.125609</td>\n",
       "      <td>-0.016792</td>\n",
       "      <td>-0.368704</td>\n",
       "      <td>0.205622</td>\n",
       "      <td>0.224300</td>\n",
       "      <td>-0.152075</td>\n",
       "      <td>-0.094676</td>\n",
       "      <td>-0.526553</td>\n",
       "      <td>0.437968</td>\n",
       "      <td>0.411523</td>\n",
       "      <td>...</td>\n",
       "      <td>-0.363835</td>\n",
       "      <td>0.231408</td>\n",
       "      <td>-0.872783</td>\n",
       "      <td>-0.060109</td>\n",
       "      <td>0.298475</td>\n",
       "      <td>-0.016588</td>\n",
       "      <td>0.531132</td>\n",
       "      <td>-0.134259</td>\n",
       "      <td>0.081906</td>\n",
       "      <td>-0.401122</td>\n",
       "    </tr>\n",
       "    <tr>\n",
       "      <th>772</th>\n",
       "      <td>-0.604732</td>\n",
       "      <td>0.578274</td>\n",
       "      <td>0.103259</td>\n",
       "      <td>0.188739</td>\n",
       "      <td>-0.533520</td>\n",
       "      <td>-0.160373</td>\n",
       "      <td>0.652303</td>\n",
       "      <td>-0.637050</td>\n",
       "      <td>0.814923</td>\n",
       "      <td>0.706039</td>\n",
       "      <td>...</td>\n",
       "      <td>-1.117223</td>\n",
       "      <td>0.643935</td>\n",
       "      <td>-0.958765</td>\n",
       "      <td>0.526360</td>\n",
       "      <td>-0.426958</td>\n",
       "      <td>0.371385</td>\n",
       "      <td>0.134486</td>\n",
       "      <td>-0.132689</td>\n",
       "      <td>0.004111</td>\n",
       "      <td>-0.504844</td>\n",
       "    </tr>\n",
       "    <tr>\n",
       "      <th>773</th>\n",
       "      <td>-0.411729</td>\n",
       "      <td>0.485789</td>\n",
       "      <td>-0.249535</td>\n",
       "      <td>0.172692</td>\n",
       "      <td>-0.528066</td>\n",
       "      <td>0.299471</td>\n",
       "      <td>0.164593</td>\n",
       "      <td>-1.012732</td>\n",
       "      <td>0.486946</td>\n",
       "      <td>-0.423266</td>\n",
       "      <td>...</td>\n",
       "      <td>-0.546662</td>\n",
       "      <td>0.447070</td>\n",
       "      <td>-1.007018</td>\n",
       "      <td>0.270806</td>\n",
       "      <td>0.040386</td>\n",
       "      <td>0.331095</td>\n",
       "      <td>0.545481</td>\n",
       "      <td>0.075594</td>\n",
       "      <td>0.452824</td>\n",
       "      <td>0.161510</td>\n",
       "    </tr>\n",
       "    <tr>\n",
       "      <th>774</th>\n",
       "      <td>-0.109460</td>\n",
       "      <td>0.124760</td>\n",
       "      <td>-0.301339</td>\n",
       "      <td>0.263627</td>\n",
       "      <td>-0.620124</td>\n",
       "      <td>0.543031</td>\n",
       "      <td>0.239732</td>\n",
       "      <td>-0.606416</td>\n",
       "      <td>0.352809</td>\n",
       "      <td>0.071686</td>\n",
       "      <td>...</td>\n",
       "      <td>-0.191264</td>\n",
       "      <td>0.408702</td>\n",
       "      <td>-0.596113</td>\n",
       "      <td>0.083482</td>\n",
       "      <td>0.042501</td>\n",
       "      <td>0.180732</td>\n",
       "      <td>-0.001663</td>\n",
       "      <td>0.136835</td>\n",
       "      <td>0.305062</td>\n",
       "      <td>-0.160340</td>\n",
       "    </tr>\n",
       "    <tr>\n",
       "      <th>775</th>\n",
       "      <td>-0.055282</td>\n",
       "      <td>0.243439</td>\n",
       "      <td>-0.062932</td>\n",
       "      <td>-0.068519</td>\n",
       "      <td>-0.251085</td>\n",
       "      <td>-0.186198</td>\n",
       "      <td>-0.033443</td>\n",
       "      <td>-0.813397</td>\n",
       "      <td>0.521910</td>\n",
       "      <td>0.534423</td>\n",
       "      <td>...</td>\n",
       "      <td>-0.784729</td>\n",
       "      <td>0.298939</td>\n",
       "      <td>-0.720913</td>\n",
       "      <td>0.066970</td>\n",
       "      <td>0.110628</td>\n",
       "      <td>-0.359134</td>\n",
       "      <td>0.333648</td>\n",
       "      <td>0.022744</td>\n",
       "      <td>0.180279</td>\n",
       "      <td>-0.089384</td>\n",
       "    </tr>\n",
       "  </tbody>\n",
       "</table>\n",
       "<p>776 rows × 300 columns</p>\n",
       "</div>"
      ],
      "text/plain": [
       "          0         1         2         3         4         5         6    \\\n",
       "0    0.127735  0.235061 -0.086524  0.003810  0.120681  0.217154 -0.104117   \n",
       "1    0.072223  0.150872  0.217045  0.226054  0.107462 -0.065670  0.024513   \n",
       "2   -0.322412 -0.033755 -0.006769 -0.058533 -0.280152 -0.129906  0.216074   \n",
       "3   -0.113855  0.325437 -0.143501  0.205663 -0.289510 -0.264339  0.072500   \n",
       "4   -0.236785  0.018763 -0.111336  0.324455 -0.393914 -0.289901  0.446163   \n",
       "..        ...       ...       ...       ...       ...       ...       ...   \n",
       "771 -0.125609 -0.016792 -0.368704  0.205622  0.224300 -0.152075 -0.094676   \n",
       "772 -0.604732  0.578274  0.103259  0.188739 -0.533520 -0.160373  0.652303   \n",
       "773 -0.411729  0.485789 -0.249535  0.172692 -0.528066  0.299471  0.164593   \n",
       "774 -0.109460  0.124760 -0.301339  0.263627 -0.620124  0.543031  0.239732   \n",
       "775 -0.055282  0.243439 -0.062932 -0.068519 -0.251085 -0.186198 -0.033443   \n",
       "\n",
       "          7         8         9    ...       290       291       292  \\\n",
       "0   -0.508286  0.443325  0.306826  ... -0.636729  0.271189 -0.418535   \n",
       "1   -0.466990  0.751906 -0.156715  ... -0.380454  0.623265 -0.290799   \n",
       "2   -0.449664  0.314796 -0.083322  ... -0.452964  0.099408 -0.338833   \n",
       "3   -0.284336  0.315983  0.337004  ... -0.384992  0.371126 -0.330034   \n",
       "4   -0.459797  0.472943  0.293615  ... -0.416899  0.203973 -0.539202   \n",
       "..        ...       ...       ...  ...       ...       ...       ...   \n",
       "771 -0.526553  0.437968  0.411523  ... -0.363835  0.231408 -0.872783   \n",
       "772 -0.637050  0.814923  0.706039  ... -1.117223  0.643935 -0.958765   \n",
       "773 -1.012732  0.486946 -0.423266  ... -0.546662  0.447070 -1.007018   \n",
       "774 -0.606416  0.352809  0.071686  ... -0.191264  0.408702 -0.596113   \n",
       "775 -0.813397  0.521910  0.534423  ... -0.784729  0.298939 -0.720913   \n",
       "\n",
       "          293       294       295       296       297       298       299  \n",
       "0    0.010197 -0.141266  0.098013 -0.037712 -0.128682 -0.087839 -0.341490  \n",
       "1    0.262206  0.067257 -0.068819  0.117884  0.066299 -0.031979  0.006392  \n",
       "2    0.042622 -0.048744  0.134967 -0.057996 -0.344080  0.021213 -0.178418  \n",
       "3    0.101861 -0.123601  0.073506  0.404387  0.064453 -0.073978 -0.013935  \n",
       "4    0.032364 -0.077112  0.421060 -0.106325 -0.055864 -0.002660 -0.323667  \n",
       "..        ...       ...       ...       ...       ...       ...       ...  \n",
       "771 -0.060109  0.298475 -0.016588  0.531132 -0.134259  0.081906 -0.401122  \n",
       "772  0.526360 -0.426958  0.371385  0.134486 -0.132689  0.004111 -0.504844  \n",
       "773  0.270806  0.040386  0.331095  0.545481  0.075594  0.452824  0.161510  \n",
       "774  0.083482  0.042501  0.180732 -0.001663  0.136835  0.305062 -0.160340  \n",
       "775  0.066970  0.110628 -0.359134  0.333648  0.022744  0.180279 -0.089384  \n",
       "\n",
       "[776 rows x 300 columns]"
      ]
     },
     "execution_count": 39,
     "metadata": {},
     "output_type": "execute_result"
    }
   ],
   "source": [
    "weighted_preTW2v_dvs"
   ]
  },
  {
   "cell_type": "code",
   "execution_count": 40,
   "id": "be70edb5-1e96-4064-b2e5-cfc83a6c3110",
   "metadata": {},
   "outputs": [
    {
     "data": {
      "image/png": "[encoded data removed]",
      "text/plain": [
       "<Figure size 640x480 with 1 Axes>"
      ]
     },
     "metadata": {},
     "output_type": "display_data"
    }
   ],
   "source": [
    "plotTSNE(pd.Series(categories), weighted_preTW2v_dvs.to_numpy())"
   ]
  },
  {
   "cell_type": "markdown",
   "id": "070edd43-91ca-47fd-bdc7-0e74bfc9c92e",
   "metadata": {},
   "source": [
    "## 3. Generating Feature Representations for Job Advertisement Titles"
   ]
  },
  {
   "cell_type": "markdown",
   "id": "02927c84-cd2d-4969-899e-20debead4465",
   "metadata": {},
   "source": [
    "### 3.1. Count Features"
   ]
  },
  {
   "cell_type": "code",
   "execution_count": 43,
   "id": "b7db6ff5-fd0f-497d-b898-cd7abe62fe8b",
   "metadata": {},
   "outputs": [],
   "source": [
    "title_cVectorizer = CountVectorizer(analyzer = \"word\",vocabulary = titles_vocab)"
   ]
  },
  {
   "cell_type": "code",
   "execution_count": 44,
   "id": "fa18673d-dfb2-4371-83a6-652a573502bd",
   "metadata": {},
   "outputs": [
    {
     "name": "stdout",
     "output_type": "stream",
     "text": [
      "(776, 363)\n"
     ]
    }
   ],
   "source": [
    "titles_count_features = title_cVectorizer.fit_transform([\" \".join(title) for title in tk_titles]) # generate the count vector representation for all articles\n",
    "print(titles_count_features.shape)"
   ]
  },
  {
   "cell_type": "markdown",
   "id": "f86e4657-ab43-4b95-8328-0b21c0c5a96c",
   "metadata": {},
   "source": [
    "### 3.2. TF-IDF Features"
   ]
  },
  {
   "cell_type": "code",
   "execution_count": 46,
   "id": "1575bafb-be75-4cec-a3b2-7b5a7af14486",
   "metadata": {},
   "outputs": [],
   "source": [
    "title_tVectorizer = TfidfVectorizer(analyzer = \"word\",vocabulary = titles_vocab) "
   ]
  },
  {
   "cell_type": "code",
   "execution_count": 47,
   "id": "89dc6266-7128-4d11-809a-9cc09ec9dec4",
   "metadata": {},
   "outputs": [
    {
     "name": "stdout",
     "output_type": "stream",
     "text": [
      "(776, 363)\n"
     ]
    }
   ],
   "source": [
    "titles_tfidf_features = title_tVectorizer.fit_transform([\" \".join(title) for title in tk_titles]) # generate the count vector representation for all articles\n",
    "print(titles_count_features.shape)"
   ]
  },
  {
   "cell_type": "markdown",
   "id": "fd8d219f-8ad9-46ea-876a-317e4e387d93",
   "metadata": {},
   "source": [
    "## 4. Job Advertisement Classification\n",
    "Since the dataset is small, models were trained using `LogisticRegression` and additionally, `Support Vector Machine` due to its ability to handle large feature space.\n",
    "\n",
    "Models performance were evaluated using **5 folds cross validation** with 4 different sets of features presentation: `count vectors`, `tfidf vectors`, and additional `unweighted-doc2vec` and `tfidf-weighted-doc2vec` retrieved from word embeddings using **word2vec-google-300**.\n",
    "\n",
    "Experiments on using the **titles representation** instead of the descriptions and using **both** were also conducted to see whether the models performance vary regardings the amount of data provided for training."
   ]
  },
  {
   "cell_type": "markdown",
   "id": "569834d9-7073-40a9-b802-a158e89929b8",
   "metadata": {},
   "source": [
    "#### Labels Examination"
   ]
  },
  {
   "cell_type": "code",
   "execution_count": 50,
   "id": "363f1f31-681c-4bb5-aeef-eef6d3866398",
   "metadata": {},
   "outputs": [
    {
     "data": {
      "text/plain": [
       "Text(0, 0.5, 'Count')"
      ]
     },
     "execution_count": 50,
     "metadata": {},
     "output_type": "execute_result"
    },
    {
     "data": {
      "image/png": "[encoded data removed]",
      "text/plain": [
       "<Figure size 640x480 with 1 Axes>"
      ]
     },
     "metadata": {},
     "output_type": "display_data"
    }
   ],
   "source": [
    "# Get unique values of labels and their counts\n",
    "unique_categories_values, counts = np.unique(categories, return_counts=True)\n",
    "\n",
    "# Display the results\n",
    "colors = plt.cm.viridis(np.linspace(0, 1, len(unique_categories_values)))\n",
    "\n",
    "# Plot the results\n",
    "plt.bar(unique_categories_values, counts, color=colors)\n",
    "\n",
    "# Add titles and labels\n",
    "plt.title('Jobs Advertisement Classes')\n",
    "plt.xlabel('Unique Values')\n",
    "plt.ylabel('Count')\n"
   ]
  },
  {
   "cell_type": "markdown",
   "id": "483e1e33-b56d-4ecb-96f9-1665bbccbc09",
   "metadata": {},
   "source": [
    "The target variable is **not imbalanced**. It is adequate to use `accuracy score` as the primary metrics for models evaluation."
   ]
  },
  {
   "cell_type": "code",
   "execution_count": 52,
   "id": "3d4ffde4-c8ac-4d9b-a04b-0eb3abf69610",
   "metadata": {},
   "outputs": [],
   "source": [
    "def evaluate(model, X_train,X_test,y_train, y_test,seed):\n",
    "    model.fit(X_train, y_train)\n",
    "    return model.score(X_test, y_test) # accuracy"
   ]
  },
  {
   "cell_type": "code",
   "execution_count": 53,
   "id": "06323fc4-1168-4d15-80d0-893fbd62cc95",
   "metadata": {},
   "outputs": [],
   "source": [
    "# define the 5 folds\n",
    "seed = 15\n",
    "num_folds = 5\n",
    "kf = KFold(n_splits= num_folds, random_state=seed, shuffle = True)"
   ]
  },
  {
   "cell_type": "code",
   "execution_count": 54,
   "id": "1ee898e3-17d7-4f7b-94a1-176b47acab01",
   "metadata": {},
   "outputs": [],
   "source": [
    "# define the 5 folds validation function\n",
    "def five_folds_validate_model(model, labels = categories, count_features = count_features, tfidf_features = tfidf_features, tfidf_weighted=pd.DataFrame(), unweighted = pd.DataFrame()):\n",
    "    \n",
    "    cv_df = pd.DataFrame(columns = ['count','tf-idf', 'unweighted','tfidf-weighted'],index=range(num_folds)) # creates a dataframe to store the accuracy scores in all the folds\n",
    "\n",
    "    fold = 0\n",
    "    for train_index, test_index in kf.split(list(range(0,len(labels)))):\n",
    "    \n",
    "        y_train = [str(categories[i]) for i in train_index]\n",
    "        y_test = [str(categories[i]) for i in test_index]\n",
    "\n",
    "       \n",
    "        X_train_count, X_test_count = count_features[train_index], count_features[test_index]\n",
    "        cv_df.loc[fold,'count'] = evaluate(model, count_features[train_index],count_features[test_index],y_train,y_test,seed)\n",
    "\n",
    "        X_train_tfidf, X_test_tfidf = tfidf_features[train_index], tfidf_features[test_index]\n",
    "        cv_df.loc[fold,'tf-idf'] = evaluate(model, tfidf_features[train_index],tfidf_features[test_index],y_train,y_test,seed)\n",
    "        \n",
    "        if not unweighted.empty:\n",
    "            X_train_unweighted, X_test_count = unweighted.to_numpy()[train_index], unweighted.to_numpy()[test_index]\n",
    "            cv_df.loc[fold,'unweighted'] = evaluate(model, unweighted.to_numpy()[train_index],unweighted.to_numpy()[test_index],y_train,y_test,seed)\n",
    "        \n",
    "        if not tfidf_weighted.empty:\n",
    "            X_train_tfidf_weighted, X_test_tfidf = tfidf_weighted.to_numpy()[train_index], tfidf_weighted.to_numpy()[test_index]\n",
    "            cv_df.loc[fold,'tfidf-weighted'] = evaluate(model, tfidf_weighted.to_numpy()[train_index],tfidf_weighted.to_numpy()[test_index],y_train,y_test,seed)\n",
    "        \n",
    "        fold +=1\n",
    "    return cv_df.dropna(axis=1)"
   ]
  },
  {
   "cell_type": "markdown",
   "id": "06850e9b-83ce-4c4d-8ab8-26e29a5d6e2a",
   "metadata": {},
   "source": [
    "### 4.1. With Descriptions Only"
   ]
  },
  {
   "cell_type": "markdown",
   "id": "75646bd9-dac6-41f1-9798-f0a18bf32d8c",
   "metadata": {},
   "source": [
    "#### Logistic Regression"
   ]
  },
  {
   "cell_type": "code",
   "execution_count": 57,
   "id": "2763f99d-820f-485c-9908-d8d980c07a90",
   "metadata": {},
   "outputs": [],
   "source": [
    "lr = LogisticRegression(random_state=seed,max_iter = 1000)\n",
    "\n",
    "lr_cv_df = five_folds_validate_model(lr, tfidf_weighted= weighted_preTW2v_dvs, unweighted = unweighted_preTW2v_dvs)"
   ]
  },
  {
   "cell_type": "code",
   "execution_count": 58,
   "id": "5f51fd1e-17a0-41ce-b162-b5f431e0f2d8",
   "metadata": {},
   "outputs": [
    {
     "data": {
      "text/html": [
       "<div>\n",
       "<style scoped>\n",
       "    .dataframe tbody tr th:only-of-type {\n",
       "        vertical-align: middle;\n",
       "    }\n",
       "\n",
       "    .dataframe tbody tr th {\n",
       "        vertical-align: top;\n",
       "    }\n",
       "\n",
       "    .dataframe thead th {\n",
       "        text-align: right;\n",
       "    }\n",
       "</style>\n",
       "<table border=\"1\" class=\"dataframe\">\n",
       "  <thead>\n",
       "    <tr style=\"text-align: right;\">\n",
       "      <th></th>\n",
       "      <th>count</th>\n",
       "      <th>tf-idf</th>\n",
       "      <th>unweighted</th>\n",
       "      <th>tfidf-weighted</th>\n",
       "    </tr>\n",
       "  </thead>\n",
       "  <tbody>\n",
       "    <tr>\n",
       "      <th>0</th>\n",
       "      <td>0.878205</td>\n",
       "      <td>0.891026</td>\n",
       "      <td>0.807692</td>\n",
       "      <td>0.826923</td>\n",
       "    </tr>\n",
       "    <tr>\n",
       "      <th>1</th>\n",
       "      <td>0.864516</td>\n",
       "      <td>0.909677</td>\n",
       "      <td>0.83871</td>\n",
       "      <td>0.877419</td>\n",
       "    </tr>\n",
       "    <tr>\n",
       "      <th>2</th>\n",
       "      <td>0.870968</td>\n",
       "      <td>0.883871</td>\n",
       "      <td>0.819355</td>\n",
       "      <td>0.877419</td>\n",
       "    </tr>\n",
       "    <tr>\n",
       "      <th>3</th>\n",
       "      <td>0.883871</td>\n",
       "      <td>0.883871</td>\n",
       "      <td>0.806452</td>\n",
       "      <td>0.83871</td>\n",
       "    </tr>\n",
       "    <tr>\n",
       "      <th>4</th>\n",
       "      <td>0.858065</td>\n",
       "      <td>0.858065</td>\n",
       "      <td>0.825806</td>\n",
       "      <td>0.845161</td>\n",
       "    </tr>\n",
       "  </tbody>\n",
       "</table>\n",
       "</div>"
      ],
      "text/plain": [
       "      count    tf-idf unweighted tfidf-weighted\n",
       "0  0.878205  0.891026   0.807692       0.826923\n",
       "1  0.864516  0.909677    0.83871       0.877419\n",
       "2  0.870968  0.883871   0.819355       0.877419\n",
       "3  0.883871  0.883871   0.806452        0.83871\n",
       "4  0.858065  0.858065   0.825806       0.845161"
      ]
     },
     "metadata": {},
     "output_type": "display_data"
    },
    {
     "name": "stdout",
     "output_type": "stream",
     "text": [
      "Mean accuracy of Logistic Regression with Descriptions: \n",
      "count             0.871125\n",
      "tf-idf            0.885302\n",
      "unweighted        0.819603\n",
      "tfidf-weighted    0.853127\n",
      "dtype: object\n"
     ]
    }
   ],
   "source": [
    "display(lr_cv_df)\n",
    "\n",
    "print('Mean accuracy of Logistic Regression with Descriptions: ')\n",
    "print(lr_cv_df.mean())"
   ]
  },
  {
   "cell_type": "markdown",
   "id": "6ab93f1d-0169-4616-85ea-abc160b00954",
   "metadata": {},
   "source": [
    "The predictions made by logistic regression model that is trained with tf-idf features were more accurate."
   ]
  },
  {
   "cell_type": "markdown",
   "id": "dbb647ab-97e1-42bd-9a47-a0c29bcaff13",
   "metadata": {},
   "source": [
    "#### Support Vector Machine"
   ]
  },
  {
   "cell_type": "code",
   "execution_count": 61,
   "id": "74cf18cf-ce13-435b-88ed-257159951b3c",
   "metadata": {},
   "outputs": [],
   "source": [
    "svm = SVC(kernel='linear')\n",
    "\n",
    "svm_cv_df = five_folds_validate_model(svm, tfidf_weighted= weighted_preTW2v_dvs, unweighted = unweighted_preTW2v_dvs)"
   ]
  },
  {
   "cell_type": "code",
   "execution_count": 62,
   "id": "74738a90-fdac-41bb-a097-070091ddadea",
   "metadata": {},
   "outputs": [
    {
     "data": {
      "text/html": [
       "<div>\n",
       "<style scoped>\n",
       "    .dataframe tbody tr th:only-of-type {\n",
       "        vertical-align: middle;\n",
       "    }\n",
       "\n",
       "    .dataframe tbody tr th {\n",
       "        vertical-align: top;\n",
       "    }\n",
       "\n",
       "    .dataframe thead th {\n",
       "        text-align: right;\n",
       "    }\n",
       "</style>\n",
       "<table border=\"1\" class=\"dataframe\">\n",
       "  <thead>\n",
       "    <tr style=\"text-align: right;\">\n",
       "      <th></th>\n",
       "      <th>count</th>\n",
       "      <th>tf-idf</th>\n",
       "      <th>unweighted</th>\n",
       "      <th>tfidf-weighted</th>\n",
       "    </tr>\n",
       "  </thead>\n",
       "  <tbody>\n",
       "    <tr>\n",
       "      <th>0</th>\n",
       "      <td>0.858974</td>\n",
       "      <td>0.884615</td>\n",
       "      <td>0.801282</td>\n",
       "      <td>0.794872</td>\n",
       "    </tr>\n",
       "    <tr>\n",
       "      <th>1</th>\n",
       "      <td>0.851613</td>\n",
       "      <td>0.903226</td>\n",
       "      <td>0.812903</td>\n",
       "      <td>0.858065</td>\n",
       "    </tr>\n",
       "    <tr>\n",
       "      <th>2</th>\n",
       "      <td>0.864516</td>\n",
       "      <td>0.903226</td>\n",
       "      <td>0.819355</td>\n",
       "      <td>0.851613</td>\n",
       "    </tr>\n",
       "    <tr>\n",
       "      <th>3</th>\n",
       "      <td>0.858065</td>\n",
       "      <td>0.896774</td>\n",
       "      <td>0.793548</td>\n",
       "      <td>0.8</td>\n",
       "    </tr>\n",
       "    <tr>\n",
       "      <th>4</th>\n",
       "      <td>0.83871</td>\n",
       "      <td>0.870968</td>\n",
       "      <td>0.806452</td>\n",
       "      <td>0.793548</td>\n",
       "    </tr>\n",
       "  </tbody>\n",
       "</table>\n",
       "</div>"
      ],
      "text/plain": [
       "      count    tf-idf unweighted tfidf-weighted\n",
       "0  0.858974  0.884615   0.801282       0.794872\n",
       "1  0.851613  0.903226   0.812903       0.858065\n",
       "2  0.864516  0.903226   0.819355       0.851613\n",
       "3  0.858065  0.896774   0.793548            0.8\n",
       "4   0.83871  0.870968   0.806452       0.793548"
      ]
     },
     "metadata": {},
     "output_type": "display_data"
    },
    {
     "name": "stdout",
     "output_type": "stream",
     "text": [
      "Mean accuracy of Support Vector Machine with Descriptions: \n",
      "count             0.854376\n",
      "tf-idf            0.891762\n",
      "unweighted        0.806708\n",
      "tfidf-weighted     0.81962\n",
      "dtype: object\n"
     ]
    }
   ],
   "source": [
    "display(svm_cv_df)\n",
    "\n",
    "print('Mean accuracy of Support Vector Machine with Descriptions: ')\n",
    "print(svm_cv_df.mean())"
   ]
  },
  {
   "cell_type": "markdown",
   "id": "f6ae538b-48ca-4642-98f8-ed2c2e444300",
   "metadata": {},
   "source": [
    "The predictions made by SVM model that is trained with tf-idf features were more accurate. Additionally, it was also better than the Logistic Regression score while the result on count features was lower.\n",
    "\n",
    "In both models, the two word-embeddings features were not as effective as the other two."
   ]
  },
  {
   "cell_type": "markdown",
   "id": "98afe05b-cf2b-42ba-a462-d9eb585fb61f",
   "metadata": {},
   "source": [
    "### 4.2. With Titles Only\n",
    "For the titles, only `count_features` and `tfidf_features` of them are used due to the belief that the word-embeddings approach were inadequate."
   ]
  },
  {
   "cell_type": "markdown",
   "id": "8d230ede-ad1b-4e29-b1fa-33ee276899c7",
   "metadata": {},
   "source": [
    "#### Logistic Regression"
   ]
  },
  {
   "cell_type": "code",
   "execution_count": 66,
   "id": "ec6b6f4c-9e61-435c-a360-309f1da68506",
   "metadata": {},
   "outputs": [],
   "source": [
    "lr_titles_cv_df = five_folds_validate_model(lr,count_features=titles_count_features, tfidf_features=titles_tfidf_features)"
   ]
  },
  {
   "cell_type": "code",
   "execution_count": 67,
   "id": "4e0bf0a2-27bd-4c79-bcc8-d68df243f5d7",
   "metadata": {},
   "outputs": [
    {
     "data": {
      "text/html": [
       "<div>\n",
       "<style scoped>\n",
       "    .dataframe tbody tr th:only-of-type {\n",
       "        vertical-align: middle;\n",
       "    }\n",
       "\n",
       "    .dataframe tbody tr th {\n",
       "        vertical-align: top;\n",
       "    }\n",
       "\n",
       "    .dataframe thead th {\n",
       "        text-align: right;\n",
       "    }\n",
       "</style>\n",
       "<table border=\"1\" class=\"dataframe\">\n",
       "  <thead>\n",
       "    <tr style=\"text-align: right;\">\n",
       "      <th></th>\n",
       "      <th>count</th>\n",
       "      <th>tf-idf</th>\n",
       "    </tr>\n",
       "  </thead>\n",
       "  <tbody>\n",
       "    <tr>\n",
       "      <th>0</th>\n",
       "      <td>0.820513</td>\n",
       "      <td>0.839744</td>\n",
       "    </tr>\n",
       "    <tr>\n",
       "      <th>1</th>\n",
       "      <td>0.845161</td>\n",
       "      <td>0.858065</td>\n",
       "    </tr>\n",
       "    <tr>\n",
       "      <th>2</th>\n",
       "      <td>0.825806</td>\n",
       "      <td>0.870968</td>\n",
       "    </tr>\n",
       "    <tr>\n",
       "      <th>3</th>\n",
       "      <td>0.812903</td>\n",
       "      <td>0.787097</td>\n",
       "    </tr>\n",
       "    <tr>\n",
       "      <th>4</th>\n",
       "      <td>0.83871</td>\n",
       "      <td>0.845161</td>\n",
       "    </tr>\n",
       "  </tbody>\n",
       "</table>\n",
       "</div>"
      ],
      "text/plain": [
       "      count    tf-idf\n",
       "0  0.820513  0.839744\n",
       "1  0.845161  0.858065\n",
       "2  0.825806  0.870968\n",
       "3  0.812903  0.787097\n",
       "4   0.83871  0.845161"
      ]
     },
     "metadata": {},
     "output_type": "display_data"
    },
    {
     "name": "stdout",
     "output_type": "stream",
     "text": [
      "Mean accuracy of Logistic Regression with Titles: \n",
      "count     0.828619\n",
      "tf-idf    0.840207\n",
      "dtype: object\n"
     ]
    }
   ],
   "source": [
    "display(lr_titles_cv_df)\n",
    "\n",
    "print('Mean accuracy of Logistic Regression with Titles: ')\n",
    "print(lr_titles_cv_df.mean())"
   ]
  },
  {
   "cell_type": "markdown",
   "id": "4841a0a5-f0ba-43f4-a7b5-8342015ffbd2",
   "metadata": {},
   "source": [
    "#### Support Vector Machine"
   ]
  },
  {
   "cell_type": "code",
   "execution_count": 69,
   "id": "5687e97e-6f46-44c4-b824-ceb10a5391b6",
   "metadata": {},
   "outputs": [],
   "source": [
    "svm_titles_cv_df = five_folds_validate_model(svm, count_features=titles_count_features, tfidf_features=titles_tfidf_features)"
   ]
  },
  {
   "cell_type": "code",
   "execution_count": 70,
   "id": "ef8cc603-a091-4a2f-8325-773ca07c98d4",
   "metadata": {},
   "outputs": [
    {
     "data": {
      "text/html": [
       "<div>\n",
       "<style scoped>\n",
       "    .dataframe tbody tr th:only-of-type {\n",
       "        vertical-align: middle;\n",
       "    }\n",
       "\n",
       "    .dataframe tbody tr th {\n",
       "        vertical-align: top;\n",
       "    }\n",
       "\n",
       "    .dataframe thead th {\n",
       "        text-align: right;\n",
       "    }\n",
       "</style>\n",
       "<table border=\"1\" class=\"dataframe\">\n",
       "  <thead>\n",
       "    <tr style=\"text-align: right;\">\n",
       "      <th></th>\n",
       "      <th>count</th>\n",
       "      <th>tf-idf</th>\n",
       "    </tr>\n",
       "  </thead>\n",
       "  <tbody>\n",
       "    <tr>\n",
       "      <th>0</th>\n",
       "      <td>0.807692</td>\n",
       "      <td>0.852564</td>\n",
       "    </tr>\n",
       "    <tr>\n",
       "      <th>1</th>\n",
       "      <td>0.787097</td>\n",
       "      <td>0.858065</td>\n",
       "    </tr>\n",
       "    <tr>\n",
       "      <th>2</th>\n",
       "      <td>0.819355</td>\n",
       "      <td>0.858065</td>\n",
       "    </tr>\n",
       "    <tr>\n",
       "      <th>3</th>\n",
       "      <td>0.787097</td>\n",
       "      <td>0.819355</td>\n",
       "    </tr>\n",
       "    <tr>\n",
       "      <th>4</th>\n",
       "      <td>0.825806</td>\n",
       "      <td>0.819355</td>\n",
       "    </tr>\n",
       "  </tbody>\n",
       "</table>\n",
       "</div>"
      ],
      "text/plain": [
       "      count    tf-idf\n",
       "0  0.807692  0.852564\n",
       "1  0.787097  0.858065\n",
       "2  0.819355  0.858065\n",
       "3  0.787097  0.819355\n",
       "4  0.825806  0.819355"
      ]
     },
     "metadata": {},
     "output_type": "display_data"
    },
    {
     "name": "stdout",
     "output_type": "stream",
     "text": [
      "Mean accuracy of Support Vector Machine with Titles: \n",
      "count     0.805409\n",
      "tf-idf    0.841481\n",
      "dtype: object\n"
     ]
    }
   ],
   "source": [
    "display(svm_titles_cv_df)\n",
    "\n",
    "print('Mean accuracy of Support Vector Machine with Titles: ')\n",
    "print(svm_titles_cv_df.mean())"
   ]
  },
  {
   "cell_type": "markdown",
   "id": "96c48ef3-db4d-4917-b9a7-04d5de95c16f",
   "metadata": {},
   "source": [
    "### 4.3. With Both Titles and Descriptions"
   ]
  },
  {
   "cell_type": "markdown",
   "id": "f038102e-0cd8-49fe-8491-2aeaa191ae3d",
   "metadata": {},
   "source": [
    "#### Logistic Regression"
   ]
  },
  {
   "cell_type": "code",
   "execution_count": 73,
   "id": "d8d4549e-806e-42fc-92d2-12700f34d2c7",
   "metadata": {},
   "outputs": [],
   "source": [
    "combined_count_features = hstack([count_features, titles_count_features])\n",
    "combined_tfidf_features = hstack([tfidf_features, titles_tfidf_features])"
   ]
  },
  {
   "cell_type": "code",
   "execution_count": 74,
   "id": "2f8e4c1e-2bbf-4470-869d-11cd84d43382",
   "metadata": {},
   "outputs": [],
   "source": [
    "lr_combined_cv_df = five_folds_validate_model(lr,count_features=combined_count_features, tfidf_features=combined_tfidf_features)"
   ]
  },
  {
   "cell_type": "code",
   "execution_count": 75,
   "id": "23f43722-6ab4-47c0-962e-1cf8ef2efe62",
   "metadata": {},
   "outputs": [
    {
     "data": {
      "text/html": [
       "<div>\n",
       "<style scoped>\n",
       "    .dataframe tbody tr th:only-of-type {\n",
       "        vertical-align: middle;\n",
       "    }\n",
       "\n",
       "    .dataframe tbody tr th {\n",
       "        vertical-align: top;\n",
       "    }\n",
       "\n",
       "    .dataframe thead th {\n",
       "        text-align: right;\n",
       "    }\n",
       "</style>\n",
       "<table border=\"1\" class=\"dataframe\">\n",
       "  <thead>\n",
       "    <tr style=\"text-align: right;\">\n",
       "      <th></th>\n",
       "      <th>count</th>\n",
       "      <th>tf-idf</th>\n",
       "    </tr>\n",
       "  </thead>\n",
       "  <tbody>\n",
       "    <tr>\n",
       "      <th>0</th>\n",
       "      <td>0.897436</td>\n",
       "      <td>0.916667</td>\n",
       "    </tr>\n",
       "    <tr>\n",
       "      <th>1</th>\n",
       "      <td>0.890323</td>\n",
       "      <td>0.909677</td>\n",
       "    </tr>\n",
       "    <tr>\n",
       "      <th>2</th>\n",
       "      <td>0.870968</td>\n",
       "      <td>0.896774</td>\n",
       "    </tr>\n",
       "    <tr>\n",
       "      <th>3</th>\n",
       "      <td>0.883871</td>\n",
       "      <td>0.883871</td>\n",
       "    </tr>\n",
       "    <tr>\n",
       "      <th>4</th>\n",
       "      <td>0.864516</td>\n",
       "      <td>0.858065</td>\n",
       "    </tr>\n",
       "  </tbody>\n",
       "</table>\n",
       "</div>"
      ],
      "text/plain": [
       "      count    tf-idf\n",
       "0  0.897436  0.916667\n",
       "1  0.890323  0.909677\n",
       "2  0.870968  0.896774\n",
       "3  0.883871  0.883871\n",
       "4  0.864516  0.858065"
      ]
     },
     "metadata": {},
     "output_type": "display_data"
    },
    {
     "name": "stdout",
     "output_type": "stream",
     "text": [
      "Mean accuracy of Logistic Regression with both Titles and Descriptions: \n",
      "count     0.881423\n",
      "tf-idf    0.893011\n",
      "dtype: object\n"
     ]
    }
   ],
   "source": [
    "display(lr_combined_cv_df)\n",
    "\n",
    "print('Mean accuracy of Logistic Regression with both Titles and Descriptions: ')\n",
    "print(lr_combined_cv_df.mean())"
   ]
  },
  {
   "cell_type": "markdown",
   "id": "b01354f6-5f53-4891-95c6-dce2f70ad9f1",
   "metadata": {},
   "source": [
    "#### Support Vector Machine"
   ]
  },
  {
   "cell_type": "code",
   "execution_count": 77,
   "id": "1edfbb56-ba2e-4ba6-82b5-8c8704b02399",
   "metadata": {},
   "outputs": [],
   "source": [
    "svm_combined_cv_df = five_folds_validate_model(svm,count_features=combined_count_features, tfidf_features=combined_tfidf_features)"
   ]
  },
  {
   "cell_type": "code",
   "execution_count": 78,
   "id": "ad3ced02-5a15-4b95-9e75-aa3a042fe94e",
   "metadata": {},
   "outputs": [
    {
     "data": {
      "text/html": [
       "<div>\n",
       "<style scoped>\n",
       "    .dataframe tbody tr th:only-of-type {\n",
       "        vertical-align: middle;\n",
       "    }\n",
       "\n",
       "    .dataframe tbody tr th {\n",
       "        vertical-align: top;\n",
       "    }\n",
       "\n",
       "    .dataframe thead th {\n",
       "        text-align: right;\n",
       "    }\n",
       "</style>\n",
       "<table border=\"1\" class=\"dataframe\">\n",
       "  <thead>\n",
       "    <tr style=\"text-align: right;\">\n",
       "      <th></th>\n",
       "      <th>count</th>\n",
       "      <th>tf-idf</th>\n",
       "    </tr>\n",
       "  </thead>\n",
       "  <tbody>\n",
       "    <tr>\n",
       "      <th>0</th>\n",
       "      <td>0.891026</td>\n",
       "      <td>0.891026</td>\n",
       "    </tr>\n",
       "    <tr>\n",
       "      <th>1</th>\n",
       "      <td>0.864516</td>\n",
       "      <td>0.909677</td>\n",
       "    </tr>\n",
       "    <tr>\n",
       "      <th>2</th>\n",
       "      <td>0.864516</td>\n",
       "      <td>0.883871</td>\n",
       "    </tr>\n",
       "    <tr>\n",
       "      <th>3</th>\n",
       "      <td>0.883871</td>\n",
       "      <td>0.870968</td>\n",
       "    </tr>\n",
       "    <tr>\n",
       "      <th>4</th>\n",
       "      <td>0.851613</td>\n",
       "      <td>0.858065</td>\n",
       "    </tr>\n",
       "  </tbody>\n",
       "</table>\n",
       "</div>"
      ],
      "text/plain": [
       "      count    tf-idf\n",
       "0  0.891026  0.891026\n",
       "1  0.864516  0.909677\n",
       "2  0.864516  0.883871\n",
       "3  0.883871  0.870968\n",
       "4  0.851613  0.858065"
      ]
     },
     "metadata": {},
     "output_type": "display_data"
    },
    {
     "name": "stdout",
     "output_type": "stream",
     "text": [
      "Mean accuracy of Support Vector Machine with both Titles and Descriptions: \n",
      "count     0.871108\n",
      "tf-idf    0.882721\n",
      "dtype: object\n"
     ]
    }
   ],
   "source": [
    "display(svm_combined_cv_df)\n",
    "\n",
    "print('Mean accuracy of Support Vector Machine with both Titles and Descriptions: ')\n",
    "print(svm_combined_cv_df.mean())"
   ]
  },
  {
   "cell_type": "markdown",
   "id": "2462bbf4-fe6e-4eb4-8af8-14f7a76a53d8",
   "metadata": {},
   "source": [
    "### 4.4. Final Evaluation\n",
    "|Models                     |count    |tf-idf       |unweighted    |tfidf-weighted |\n",
    "|---------------------------|---------|-------------|--------------|---------------|\n",
    "|LR with descriptions       |0.871125 |0.885302     |0.818313      |0.853127       |\n",
    "|SVM with descriptions      |0.854376 |**0.891762** |0.806708      |0.81962        |\n",
    "\n",
    "Overall, `Logistic Regression` scores were better than `SVM` on most of the features representation except for the **tf-idf**, which was at 0.891 and also the highest average accuracy an approach could score on descriptions features. Both word-embedding features got lower scores than the other two, but as within those two only, the **tfidf weighted** set delivered better results for both models (0.853 for Logistic Regression and 0.819 for SVM). \n",
    "\n",
    "\n",
    "|Models                               |count                                    |tf-idf                                      |\n",
    "|-------------------------------------|-----------------------------------------|--------------------------------------------|\n",
    "|LR with descriptions                 |0.871125                                 |0.885302                                    |\n",
    "|LR with titles                       |<span style=\"color:red\">0.828619</span>  |<span style=\"color:red\">0.840207</span>     |\n",
    "|LR with both titles and descriptions |<span style=\"color:blue\">0.881423</span> |<span style=\"color:blue\">**0.893011**</span>|\n",
    "|SVM with descriptions                |0.854376                                 |0.891762                                    |\n",
    "|SVM with titles                      |<span style=\"color:red\">0.805409</span>  |<span style=\"color:red\">0.841481</span>     |\n",
    "|SVM with both titles and descriptions|<span style=\"color:blue\"> 0.871108</span>|<span style=\"color:red\">0.882721</span>     |\n",
    "\n",
    "By conducting the training process on the ***Titles***, the overall accuracy decreased significantly. Meanwhile, with the addition of ***Titles*** features, the results were slightly better. For `Logistic Regression` models the accuracy increased from 0.871 to 0.881 regarding count_features and from 0.885 to 0.893 regarding tfidf_features. Same with `SVM`, the score on count_features went up to 0.871 (by 0.02) but slightly decrease on tfidf_features. It can be concluded that with more data and information, we can considerably train more accurate models.\n",
    "\n",
    "The best models is **Logistic Regression with tf-idf of Titles and Descriptions**\n",
    "\n",
    "\n"
   ]
  }
 ],
 "metadata": {
  "kernelspec": {
   "display_name": "Python 3 (ipykernel)",
   "language": "python",
   "name": "python3"
  },
  "language_info": {
   "codemirror_mode": {
    "name": "ipython",
    "version": 3
   },
   "file_extension": ".py",
   "mimetype": "text/x-python",
   "name": "python",
   "nbconvert_exporter": "python",
   "pygments_lexer": "ipython3",
   "version": "3.9.19"
  }
 },
 "nbformat": 4,
 "nbformat_minor": 5
}
