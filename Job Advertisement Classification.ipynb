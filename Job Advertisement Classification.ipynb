{
 "cells": [
  {
   "cell_type": "markdown",
   "id": "06d66a4f-a8e5-4c6c-8f07-7c33e1901672",
   "metadata": {},
   "source": [
    "# Job Advertisement Classification"
   ]
  },
  {
   "cell_type": "code",
   "execution_count": null,
   "id": "4d11bdf4-be8a-41a8-bc24-be153af45673",
   "metadata": {},
   "outputs": [],
   "source": []
  }
 ],
 "metadata": {
  "kernelspec": {
   "display_name": "Python 3 (ipykernel)",
   "language": "python",
   "name": "python3"
  },
  "language_info": {
   "codemirror_mode": {
    "name": "ipython",
    "version": 3
   },
   "file_extension": ".py",
   "mimetype": "text/x-python",
   "name": "python",
   "nbconvert_exporter": "python",
   "pygments_lexer": "ipython3",
   "version": "3.9.19"
  }
 },
 "nbformat": 4,
 "nbformat_minor": 5
}
